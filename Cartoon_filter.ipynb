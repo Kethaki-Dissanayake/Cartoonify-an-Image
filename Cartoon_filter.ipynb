{
 "cells": [
  {
   "cell_type": "markdown",
   "id": "9dfb9a67",
   "metadata": {},
   "source": [
    "<h1> Image Cartoonfying Filter</h1>"
   ]
  },
  {
   "cell_type": "markdown",
   "id": "a9dc2b01",
   "metadata": {},
   "source": [
    "<h2> Group No 4</h2>\n",
    "<h3>EG/2017/3111 - Dissanayake S.D.L.K.</h3>\n",
    "<h3>EG/2017/3249 - Ariyadasa J.G.M</h3>"
   ]
  },
  {
   "cell_type": "code",
   "execution_count": null,
   "id": "5bbe3716",
   "metadata": {},
   "outputs": [],
   "source": [
    "import cv2 #for image processing\n",
    "import easygui #to open the filebox\n",
    "import numpy as np #to store image\n",
    "import imageio #to read image stored at particular path\n",
    "import sys\n",
    "import matplotlib.pyplot as plt\n",
    "import os\n",
    "import tkinter as tk\n",
    "from tkinter import filedialog\n",
    "from tkinter import *\n",
    "from tkinter import messagebox\n",
    "from PIL import ImageTk, Image"
   ]
  },
  {
   "cell_type": "code",
   "execution_count": null,
   "id": "35711452",
   "metadata": {},
   "outputs": [],
   "source": [
    "#Arannging a userfriendly tkinter\n",
    "\n",
    "top=tk.Tk()\n",
    "top.geometry('1000x700')\n",
    "top.title('Cartoonify Your Image !')\n",
    "\n",
    "L1 = Label(top, text=\"Welcome!!! You can Cartoonfy Your Face Here!! And you can get Pencil Sketch of your face here!!\",highlightthickness=4,\n",
    "highlightcolor=\"black\",\n",
    "highlightbackground=\"black\",\n",
    "borderwidth=4,font=('calibri',20,'bold'))\n",
    "L1.pack(side=TOP,pady=25)\n",
    "top.configure(background = '#7AC5CD')\n",
    "\n",
    "frame1 = Frame(top, highlightbackground=\"blue\", highlightthickness=2)\n",
    "frame1.pack(padx=100, pady=20)\n",
    "label=Label(top,background='Blue', font=('calibri',15,'bold'))\n"
   ]
  },
  {
   "cell_type": "code",
   "execution_count": null,
   "id": "4c1e0f03",
   "metadata": {},
   "outputs": [],
   "source": [
    "def upload():\n",
    "    ImagePath=easygui.fileopenbox()\n",
    "    cartoonify(ImagePath)\n"
   ]
  },
  {
   "cell_type": "code",
   "execution_count": null,
   "id": "eee2e33a",
   "metadata": {},
   "outputs": [],
   "source": [
    "def cartoonify(ImagePath):\n",
    "    # read the image\n",
    "    originalmage = cv2.imread(ImagePath)\n",
    "    originalmage = cv2.cvtColor(originalmage, cv2.COLOR_BGR2RGB)\n",
    "    \n",
    "    if originalmage is None:\n",
    "        print(\"Can not find any image. Choose appropriate file\")\n",
    "        sys.exit()\n",
    "        \n",
    "    grayScaleImage= cv2.cvtColor(originalmage, cv2.COLOR_RGB2GRAY)\n",
    "     \n",
    "    #applying median blur to smoothen an image\n",
    "    smoothGrayScale = cv2.medianBlur(grayScaleImage, 3)\n",
    "    \n",
    "    #retrieving the edges for cartoon effect\n",
    "    #by using thresholding technique\n",
    "    getEdge = cv2.adaptiveThreshold(grayScaleImage, 255,\n",
    "        cv2.ADAPTIVE_THRESH_MEAN_C, \n",
    "        cv2.THRESH_BINARY, 25,9)\n",
    "    \n",
    "    \n",
    "    sigma_s = 180           # range between 0 to 200\n",
    "    sigma_r = 0.3           # range between 0 to 1.\n",
    "    shade_factor = 0.05     # range between 0 to 0.1\n",
    "    gr_sketch1, cl_sketch = cv2.pencilSketch(originalmage, \n",
    "                                            sigma_s=sigma_s, \n",
    "                                            sigma_r=sigma_r, \n",
    "                                            shade_factor=shade_factor)\n",
    "    #getEdge1 = cv2.medianBlur(getEdge, 7)\n",
    "    #gr_sketch= cv2.bilateralFilter(gr_sketch1, 40,20, 20)\n",
    "    \n",
    "    sigma_s = 200            # range between 0 to 200\n",
    "    sigma_r = 0.95         # range between 0 to 1.\n",
    "    color_cartoon = cv2.stylization(originalmage, sigma_s=sigma_s, \n",
    "                                    sigma_r=sigma_r)  \n",
    "    color_cartoon1 = cv2.bilateralFilter(color_cartoon, 15,75, 75) \n",
    "    \n",
    "    #colorImage = cv2.bilateralFilter(originalmage, 10,100, 100)\n",
    "    \n",
    "    #masking edged image with our color_cartoon 1 image\n",
    "    cartoonImage = cv2.bitwise_and(color_cartoon1, color_cartoon1, mask=gr_sketch1)\n",
    "    cartoonImage1 = cv2.bilateralFilter(cartoonImage,40,20, 20)\n",
    "    cartoonImage2 = cv2.medianBlur(cartoonImage1, 1)\n",
    "\n",
    "\n",
    "    # Plotting the whole transition\n",
    "    images=[originalmage, color_cartoon, color_cartoon1, gr_sketch1,  cartoonImage, cartoonImage2]\n",
    "\n",
    "    fig, axes = plt.subplots(3,2, figsize=(8,8), subplot_kw={'xticks':[], 'yticks':[]}, gridspec_kw=dict(hspace=0.1, wspace=0.1))\n",
    "    for i, ax in enumerate(axes.flat):\n",
    "        ax.imshow(images[i], cmap='gray')\n",
    "\n",
    "    save1=Button(top,text=\"Save your cartoon image\",command=lambda: save(cartoonImage2, ImagePath),padx=30,pady=5)\n",
    "    save1.configure(background='#364156', foreground='white',font=('calibri',15,'bold'))\n",
    "    save1.pack(side=TOP,pady=50)\n",
    "    \n",
    "    plt.show()\n",
    "    \n",
    "    \n",
    "    save2=Button(top,text=\"Save your Pensil Sketch Image\",command=lambda: saveit(gr_sketch1, ImagePath),padx=30,pady=5)\n",
    "    save2.configure(background='#364156', foreground='white',font=('calibri',15,'bold'))\n",
    "    save2.pack(side=TOP,pady=50)\n",
    "    \n",
    "    plt.show()\n",
    "    "
   ]
  },
  {
   "cell_type": "code",
   "execution_count": null,
   "id": "b3a473a8",
   "metadata": {},
   "outputs": [],
   "source": [
    "#Cartoonized Image Saving\n",
    "\n",
    "def save(cartoonImage2, ImagePath):\n",
    "    #saving an image using imwrite()\n",
    "    newName=\"cartoonified_Image2\"\n",
    "    path1 = os.path.dirname(ImagePath)\n",
    "    extension=os.path.splitext(ImagePath)[1]\n",
    "    path = os.path.join(path1, newName+extension)\n",
    "    cv2.imwrite(path, cv2.cvtColor(cartoonImage2, cv2.COLOR_RGB2BGR))\n",
    "    I= \"Image saved by name \" + newName +\" at \"+ path\n",
    "    tk.messagebox.showinfo(title=None, message=I)"
   ]
  },
  {
   "cell_type": "code",
   "execution_count": null,
   "id": "2985d2a7",
   "metadata": {},
   "outputs": [],
   "source": [
    "#Pensil Sketch Saving Function\n",
    "\n",
    "def saveit(gr_sketch1, ImagePath):\n",
    "    #saving an image using imwrite()\n",
    "    newName=\"Pencil Sketch Image\"\n",
    "    path1 = os.path.dirname(ImagePath)\n",
    "    extension=os.path.splitext(ImagePath)[1]\n",
    "    path = os.path.join(path1, newName+extension)\n",
    "    cv2.imwrite(path, cv2.cvtColor(gr_sketch1, cv2.COLOR_RGB2BGR))\n",
    "    I= \"Image saved by name \" + newName +\" at \"+ path\n",
    "    tk.messagebox.showinfo(title=None, message=I)\n",
    "    "
   ]
  },
  {
   "cell_type": "code",
   "execution_count": null,
   "id": "871d4bec",
   "metadata": {},
   "outputs": [],
   "source": [
    "#Uploading an image by Button\n",
    "\n",
    "upload=Button(top,text=\"Upload Your Image\",command=upload,padx=10,pady=5)\n",
    "upload.configure(background='#364156', foreground='white',font=('calibri',20,'bold'))\n",
    "upload.pack(side=TOP,pady=50)\n",
    "\n",
    "top.mainloop()"
   ]
  },
  {
   "cell_type": "code",
   "execution_count": null,
   "id": "1718511e",
   "metadata": {},
   "outputs": [],
   "source": [
    "\n"
   ]
  },
  {
   "cell_type": "code",
   "execution_count": null,
   "id": "ef262dac",
   "metadata": {},
   "outputs": [],
   "source": []
  },
  {
   "cell_type": "code",
   "execution_count": null,
   "id": "a700cc52",
   "metadata": {},
   "outputs": [],
   "source": []
  }
 ],
 "metadata": {
  "kernelspec": {
   "display_name": "Python 3",
   "language": "python",
   "name": "python3"
  },
  "language_info": {
   "codemirror_mode": {
    "name": "ipython",
    "version": 3
   },
   "file_extension": ".py",
   "mimetype": "text/x-python",
   "name": "python",
   "nbconvert_exporter": "python",
   "pygments_lexer": "ipython3",
   "version": "3.8.8"
  }
 },
 "nbformat": 4,
 "nbformat_minor": 5
}
